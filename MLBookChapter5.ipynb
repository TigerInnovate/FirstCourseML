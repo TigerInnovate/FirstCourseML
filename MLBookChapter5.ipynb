{
 "cells": [
  {
   "cell_type": "code",
   "execution_count": 1,
   "metadata": {
    "collapsed": true
   },
   "outputs": [],
   "source": [
    "import numpy as np\n",
    "import pandas as pd\n",
    "import matplotlib.pyplot as plt\n",
    "%matplotlib inline"
   ]
  },
  {
   "cell_type": "code",
   "execution_count": 2,
   "metadata": {
    "collapsed": true
   },
   "outputs": [],
   "source": [
    "trainx = np.loadtxt(\"trainx.csv\", delimiter= \",\")\n",
    "testx = np.loadtxt(\"testx.csv\", delimiter=\",\")\n",
    "traint = np.hstack((np.zeros(50, ), np.ones(50, )))\n",
    "testt = np.hstack((np.zeros(200, ), np.ones(200, )))"
   ]
  },
  {
   "cell_type": "code",
   "execution_count": 35,
   "metadata": {
    "collapsed": false
   },
   "outputs": [],
   "source": [
    "class0_pos = np.where(traint == 0)[0] #training examples where label equal to 0\n",
    "class0_mean = trainx[class0_pos, :].mean(axis = 0)\n",
    "class0_var = trainx[class0_pos, :].var(axis = 0)\n",
    "\n",
    "class1_pos = np.where(traint == 1)[0]\n",
    "class1_mean = trainx[class1_pos, :].mean(axis = 0)\n",
    "class1_var = trainx[class1_pos, :].var(axis = 0)"
   ]
  },
  {
   "cell_type": "code",
   "execution_count": 4,
   "metadata": {
    "collapsed": false
   },
   "outputs": [
    {
     "data": {
      "text/html": [
       "<div>\n",
       "<table border=\"1\" class=\"dataframe\">\n",
       "  <thead>\n",
       "    <tr style=\"text-align: right;\">\n",
       "      <th></th>\n",
       "      <th>X</th>\n",
       "      <th>Y</th>\n",
       "      <th>label</th>\n",
       "    </tr>\n",
       "  </thead>\n",
       "  <tbody>\n",
       "    <tr>\n",
       "      <th>0</th>\n",
       "      <td>-0.412221</td>\n",
       "      <td>-1.214139</td>\n",
       "      <td>0</td>\n",
       "    </tr>\n",
       "    <tr>\n",
       "      <th>1</th>\n",
       "      <td>-0.139011</td>\n",
       "      <td>-0.278391</td>\n",
       "      <td>0</td>\n",
       "    </tr>\n",
       "    <tr>\n",
       "      <th>2</th>\n",
       "      <td>0.680692</td>\n",
       "      <td>-0.074141</td>\n",
       "      <td>0</td>\n",
       "    </tr>\n",
       "    <tr>\n",
       "      <th>3</th>\n",
       "      <td>-0.368678</td>\n",
       "      <td>-0.500838</td>\n",
       "      <td>0</td>\n",
       "    </tr>\n",
       "    <tr>\n",
       "      <th>4</th>\n",
       "      <td>0.775973</td>\n",
       "      <td>-1.125245</td>\n",
       "      <td>0</td>\n",
       "    </tr>\n",
       "  </tbody>\n",
       "</table>\n",
       "</div>"
      ],
      "text/plain": [
       "          X         Y  label\n",
       "0 -0.412221 -1.214139      0\n",
       "1 -0.139011 -0.278391      0\n",
       "2  0.680692 -0.074141      0\n",
       "3 -0.368678 -0.500838      0\n",
       "4  0.775973 -1.125245      0"
      ]
     },
     "execution_count": 4,
     "metadata": {},
     "output_type": "execute_result"
    }
   ],
   "source": [
    "train = pd.DataFrame(trainx, columns= [\"X\", \"Y\", \"label\"])\n",
    "train.head()"
   ]
  },
  {
   "cell_type": "code",
   "execution_count": 19,
   "metadata": {
    "collapsed": false
   },
   "outputs": [
    {
     "data": {
      "text/plain": [
       "<matplotlib.legend.Legend at 0x927fcc0>"
      ]
     },
     "execution_count": 19,
     "metadata": {},
     "output_type": "execute_result"
    },
    {
     "data": {
      "image/png": "[encoded data removed]",
      "text/plain": [
       "<matplotlib.figure.Figure at 0x3c81d30>"
      ]
     },
     "metadata": {},
     "output_type": "display_data"
    }
   ],
   "source": [
    "train_pos = train[train[\"label\"] == 1]\n",
    "train_neg = train[train[\"label\"] == 0]\n",
    "plt.figure(figsize=(7, 7))\n",
    "plt.scatter(train_pos[\"X\"], train_pos[\"Y\"], label=\"Positive\", marker=\"x\", c=\"r\")\n",
    "plt.scatter(train_neg[\"X\"], train_neg[\"Y\"], label=\"Negative\", marker=\"o\", c=\"b\")\n",
    "plt.legend()"
   ]
  },
  {
   "cell_type": "code",
   "execution_count": 24,
   "metadata": {
    "collapsed": false
   },
   "outputs": [
    {
     "name": "stdout",
     "output_type": "stream",
     "text": [
      "(50, 3) (50, 3)\n"
     ]
    }
   ],
   "source": [
    "print train_pos.shape, train_neg.shape"
   ]
  },
  {
   "cell_type": "code",
   "execution_count": 11,
   "metadata": {
    "collapsed": false
   },
   "outputs": [
    {
     "data": {
      "text/html": [
       "<div>\n",
       "<table border=\"1\" class=\"dataframe\">\n",
       "  <thead>\n",
       "    <tr style=\"text-align: right;\">\n",
       "      <th></th>\n",
       "      <th>X</th>\n",
       "      <th>Y</th>\n",
       "      <th>label</th>\n",
       "    </tr>\n",
       "  </thead>\n",
       "  <tbody>\n",
       "    <tr>\n",
       "      <th>0</th>\n",
       "      <td>-0.596839</td>\n",
       "      <td>0.770252</td>\n",
       "      <td>0</td>\n",
       "    </tr>\n",
       "    <tr>\n",
       "      <th>1</th>\n",
       "      <td>-2.089257</td>\n",
       "      <td>0.805570</td>\n",
       "      <td>0</td>\n",
       "    </tr>\n",
       "    <tr>\n",
       "      <th>2</th>\n",
       "      <td>0.858501</td>\n",
       "      <td>-0.614506</td>\n",
       "      <td>0</td>\n",
       "    </tr>\n",
       "    <tr>\n",
       "      <th>3</th>\n",
       "      <td>-1.795914</td>\n",
       "      <td>-0.005083</td>\n",
       "      <td>0</td>\n",
       "    </tr>\n",
       "    <tr>\n",
       "      <th>4</th>\n",
       "      <td>0.303689</td>\n",
       "      <td>0.314454</td>\n",
       "      <td>0</td>\n",
       "    </tr>\n",
       "  </tbody>\n",
       "</table>\n",
       "</div>"
      ],
      "text/plain": [
       "          X         Y  label\n",
       "0 -0.596839  0.770252      0\n",
       "1 -2.089257  0.805570      0\n",
       "2  0.858501 -0.614506      0\n",
       "3 -1.795914 -0.005083      0\n",
       "4  0.303689  0.314454      0"
      ]
     },
     "execution_count": 11,
     "metadata": {},
     "output_type": "execute_result"
    }
   ],
   "source": [
    "test = pd.DataFrame(testx, columns= [\"X\", \"Y\", \"label\"])\n",
    "test.head()"
   ]
  },
  {
   "cell_type": "code",
   "execution_count": 38,
   "metadata": {
    "collapsed": false
   },
   "outputs": [
    {
     "data": {
      "text/plain": [
       "<matplotlib.legend.Legend at 0xa498278>"
      ]
     },
     "execution_count": 38,
     "metadata": {},
     "output_type": "execute_result"
    },
    {
     "data": {
      "image/png": "[encoded data removed]",
      "text/plain": [
       "<matplotlib.figure.Figure at 0x9d672b0>"
      ]
     },
     "metadata": {},
     "output_type": "display_data"
    }
   ],
   "source": [
    "test_pos = test[test[\"label\"] == 1]\n",
    "test_neg = test[test[\"label\"] == 0]\n",
    "plt.figure(figsize=(7, 7))\n",
    "plt.scatter(test_pos[\"X\"], test_pos[\"Y\"], label=\"Positive\", marker=\"x\", c=\"r\")\n",
    "plt.scatter(test_neg[\"X\"], test_neg[\"Y\"], label=\"Negative\", marker=\"o\", c=\"b\")\n",
    "plt.legend()"
   ]
  },
  {
   "cell_type": "code",
   "execution_count": 21,
   "metadata": {
    "collapsed": true
   },
   "outputs": [],
   "source": [
    "def likelihood(test_point, mean, variance, prior):\n",
    "    totalLike = 1.0\n",
    "    for i, x in enumerate(test_point):\n",
    "        totalLike *= 1.0 / (np.sqrt(2.0* np.pi)) #calculate likelihood based on conditional class distribution parameters\n",
    "        totalLike *= 1.0 / np.sqrt(variance[i])\n",
    "        totalLike *= np.exp((-1.0/(2.0*variance[i]))*(x - mean[i])**2) \n",
    "    return totalLike * prior #multiply by class prior probability"
   ]
  },
  {
   "cell_type": "code",
   "execution_count": 39,
   "metadata": {
    "collapsed": false
   },
   "outputs": [],
   "source": [
    "like0, like1 = [], []\n",
    "for i in range(len(testx)):\n",
    "    test_point = testx[i, :2]\n",
    "    #calculate likelihoods for class 0 and 1\n",
    "    like0.append(likelihood(test_point, class0_mean, class0_var, 0.5))\n",
    "    like1.append(likelihood(test_point, class1_mean, class1_var, 0.5))\n",
    "like0, like1 = np.array(like0), np.array(like1)"
   ]
  },
  {
   "cell_type": "code",
   "execution_count": 42,
   "metadata": {
    "collapsed": false
   },
   "outputs": [
    {
     "data": {
      "text/html": [
       "<div>\n",
       "<table border=\"1\" class=\"dataframe\">\n",
       "  <thead>\n",
       "    <tr style=\"text-align: right;\">\n",
       "      <th></th>\n",
       "      <th>X</th>\n",
       "      <th>Y</th>\n",
       "      <th>label</th>\n",
       "      <th>prob0</th>\n",
       "      <th>prob1</th>\n",
       "      <th>predict</th>\n",
       "    </tr>\n",
       "  </thead>\n",
       "  <tbody>\n",
       "    <tr>\n",
       "      <th>395</th>\n",
       "      <td>2.665358</td>\n",
       "      <td>1.318742</td>\n",
       "      <td>1</td>\n",
       "      <td>0.004603</td>\n",
       "      <td>0.995397</td>\n",
       "      <td>1</td>\n",
       "    </tr>\n",
       "    <tr>\n",
       "      <th>396</th>\n",
       "      <td>3.606899</td>\n",
       "      <td>2.681156</td>\n",
       "      <td>1</td>\n",
       "      <td>0.000024</td>\n",
       "      <td>0.999976</td>\n",
       "      <td>1</td>\n",
       "    </tr>\n",
       "    <tr>\n",
       "      <th>397</th>\n",
       "      <td>1.321159</td>\n",
       "      <td>2.926934</td>\n",
       "      <td>1</td>\n",
       "      <td>0.013254</td>\n",
       "      <td>0.986746</td>\n",
       "      <td>1</td>\n",
       "    </tr>\n",
       "    <tr>\n",
       "      <th>398</th>\n",
       "      <td>2.562177</td>\n",
       "      <td>1.423970</td>\n",
       "      <td>1</td>\n",
       "      <td>0.005127</td>\n",
       "      <td>0.994873</td>\n",
       "      <td>1</td>\n",
       "    </tr>\n",
       "    <tr>\n",
       "      <th>399</th>\n",
       "      <td>1.379153</td>\n",
       "      <td>4.042354</td>\n",
       "      <td>1</td>\n",
       "      <td>0.003374</td>\n",
       "      <td>0.996626</td>\n",
       "      <td>1</td>\n",
       "    </tr>\n",
       "  </tbody>\n",
       "</table>\n",
       "</div>"
      ],
      "text/plain": [
       "            X         Y  label     prob0     prob1  predict\n",
       "395  2.665358  1.318742      1  0.004603  0.995397        1\n",
       "396  3.606899  2.681156      1  0.000024  0.999976        1\n",
       "397  1.321159  2.926934      1  0.013254  0.986746        1\n",
       "398  2.562177  1.423970      1  0.005127  0.994873        1\n",
       "399  1.379153  4.042354      1  0.003374  0.996626        1"
      ]
     },
     "execution_count": 42,
     "metadata": {},
     "output_type": "execute_result"
    }
   ],
   "source": [
    "test[\"prob0\"] = like0/(like0 + like1) #normalize to obtain probabilities\n",
    "test[\"prob1\"] = like1/(like0 + like1)\n",
    "test[\"predict\"] = np.where(test[\"prob0\"] > 0.5, 0, 1) #assign prediction based on probability cutoff of 0.5\n",
    "test.tail()"
   ]
  },
  {
   "cell_type": "code",
   "execution_count": 45,
   "metadata": {
    "collapsed": false,
    "scrolled": true
   },
   "outputs": [
    {
     "data": {
      "text/plain": [
       "<matplotlib.legend.Legend at 0x918e780>"
      ]
     },
     "execution_count": 45,
     "metadata": {},
     "output_type": "execute_result"
    },
    {
     "data": {
      "image/png": "[encoded data removed]",
      "text/plain": [
       "<matplotlib.figure.Figure at 0xa89aa58>"
      ]
     },
     "metadata": {},
     "output_type": "display_data"
    }
   ],
   "source": [
    "pred_pos = test[test[\"predict\"] == 1]\n",
    "pred_neg = test[test[\"predict\"] == 0]\n",
    "plt.figure(figsize=(7, 7))\n",
    "plt.scatter(pred_pos[\"X\"], pred_pos[\"Y\"], label=\"Positive\", marker=\"x\", c=\"r\")\n",
    "plt.scatter(pred_neg[\"X\"], pred_neg[\"Y\"], label=\"Negative\", marker=\"o\", c=\"b\")\n",
    "plt.legend()"
   ]
  },
  {
   "cell_type": "code",
   "execution_count": 46,
   "metadata": {
    "collapsed": false
   },
   "outputs": [
    {
     "name": "stdout",
     "output_type": "stream",
     "text": [
      "Prediction accuracy: 0.89\n"
     ]
    }
   ],
   "source": [
    "print \"Prediction accuracy:\", np.mean(test.label == test.predict)"
   ]
  },
  {
   "cell_type": "code",
   "execution_count": 4,
   "metadata": {
    "collapsed": true
   },
   "outputs": [],
   "source": [
    "def euclid(p1, p2):\n",
    "    length = len(p1)\n",
    "    return np.sqrt(np.sum((p1 - p2)**2))"
   ]
  },
  {
   "cell_type": "code",
   "execution_count": 17,
   "metadata": {
    "collapsed": false
   },
   "outputs": [],
   "source": [
    "import random"
   ]
  },
  {
   "cell_type": "code",
   "execution_count": 19,
   "metadata": {
    "collapsed": false
   },
   "outputs": [
    {
     "name": "stdout",
     "output_type": "stream",
     "text": [
      "[ 0.14899493  0.15360413  0.19542856  0.29864033  0.49304833]\n",
      "[ 0.  0.  0.  0.  0.]\n"
     ]
    }
   ],
   "source": [
    "distances = []\n",
    "testp = testx[0, :2]\n",
    "for i in xrange(len(trainx)):\n",
    "    distances.append(euclid(testp, trainx[i, :2]))\n",
    "mini = np.argsort(distances)[:5]\n",
    "print np.array(distances)[mini]\n",
    "print trainx[mini, 2]"
   ]
  },
  {
   "cell_type": "code",
   "execution_count": null,
   "metadata": {
    "collapsed": false
   },
   "outputs": [],
   "source": []
  },
  {
   "cell_type": "code",
   "execution_count": 25,
   "metadata": {
    "collapsed": true
   },
   "outputs": [],
   "source": [
    "def response(classes):\n",
    "    counts = {}\n",
    "    for c in classes:\n",
    "        if c in counts:\n",
    "            counts[c] += 1\n",
    "        else:\n",
    "            counts[c] = 1\n",
    "    maxcount = max(counts.values())\n",
    "    maxclass = []\n",
    "    for c in counts.keys():\n",
    "        if counts[c] == maxcount:\n",
    "            maxclass.append(c)\n",
    "    return random.choice(maxclass)"
   ]
  },
  {
   "cell_type": "code",
   "execution_count": 34,
   "metadata": {
    "collapsed": false
   },
   "outputs": [
    {
     "data": {
      "text/plain": [
       "1"
      ]
     },
     "execution_count": 34,
     "metadata": {},
     "output_type": "execute_result"
    }
   ],
   "source": []
  },
  {
   "cell_type": "code",
   "execution_count": 71,
   "metadata": {
    "collapsed": false
   },
   "outputs": [],
   "source": [
    "def knn(testpoints, trainx, k=5, graph=False):\n",
    "    testpreds = []\n",
    "    for i in range(len(testpoints)):\n",
    "        testp = testpoints[i, :2] #choose test point\n",
    "        distances = []\n",
    "        for j in xrange(len(trainx)):  #find distances to points in training set \n",
    "            distances.append(euclid(testp, trainx[j, :2]))\n",
    "        distances = np.array(distances)\n",
    "        mini = np.argsort(distances)[:k]  #find k smallest distances\n",
    "        mclasses = trainx[mini, 2]  #classes of points with k smallest distances\n",
    "        pred_class = response(mclasses) #find majority class of these points\n",
    "        testpreds.append(pred_class)\n",
    "    if graph:\n",
    "        df = test.copy()\n",
    "        df[\"Pred\"] = testpreds\n",
    "        pred_pos = df[df[\"Pred\"] == 1.0]\n",
    "        pred_neg = df[df[\"Pred\"] == 0.0]\n",
    "        plt.figure(figsize=(7, 7))\n",
    "        plt.scatter(pred_pos[\"X\"], pred_pos[\"Y\"], c=\"r\", marker=\"x\", label=\"Positive\")\n",
    "        plt.scatter(pred_neg[\"X\"], pred_neg[\"Y\"], c=\"b\", marker=\"o\", label=\"Negative\")\n",
    "        plt.legend()\n",
    "        plt.xlabel(\"X\")\n",
    "        plt.ylabel(\"Y\")\n",
    "        plt.title(\"KNN for k = %d\" %k)\n",
    "    return np.mean(test.label == testpreds)"
   ]
  },
  {
   "cell_type": "code",
   "execution_count": 68,
   "metadata": {
    "collapsed": false
   },
   "outputs": [
    {
     "name": "stdout",
     "output_type": "stream",
     "text": [
      "Prediction accuracy: 0.88\n"
     ]
    },
    {
     "data": {
      "image/png": "[encoded data removed]",
      "text/plain": [
       "<matplotlib.figure.Figure at 0xabd39b0>"
      ]
     },
     "metadata": {},
     "output_type": "display_data"
    }
   ],
   "source": [
    "knn(testx, trainx, k=15, graph=True)"
   ]
  },
  {
   "cell_type": "code",
   "execution_count": 73,
   "metadata": {
    "collapsed": false
   },
   "outputs": [
    {
     "name": "stdout",
     "output_type": "stream",
     "text": [
      "Accuracy for k=1 is 0.843\n",
      "Accuracy for k=2 is 0.838\n",
      "Accuracy for k=5 is 0.882\n",
      "Accuracy for k=10 is 0.880\n",
      "Accuracy for k=15 is 0.880\n",
      "Accuracy for k=20 is 0.885\n",
      "Accuracy for k=25 is 0.892\n",
      "Accuracy for k=50 is 0.892\n",
      "Accuracy for k=75 is 0.897\n"
     ]
    }
   ],
   "source": [
    "ks = [1, 2, 5, 10, 15, 20, 25, 50, 75]\n",
    "for k in ks:\n",
    "    print \"Accuracy for k=%d is %0.3f\" %(k, knn(testx, trainx, k=k)) "
   ]
  },
  {
   "cell_type": "code",
   "execution_count": 5,
   "metadata": {
    "collapsed": false
   },
   "outputs": [
    {
     "data": {
      "text/html": [
       "<div>\n",
       "<table border=\"1\" class=\"dataframe\">\n",
       "  <thead>\n",
       "    <tr style=\"text-align: right;\">\n",
       "      <th></th>\n",
       "      <th>X</th>\n",
       "      <th>Y</th>\n",
       "      <th>label</th>\n",
       "    </tr>\n",
       "  </thead>\n",
       "  <tbody>\n",
       "    <tr>\n",
       "      <th>0</th>\n",
       "      <td>-0.412221</td>\n",
       "      <td>-1.214139</td>\n",
       "      <td>0</td>\n",
       "    </tr>\n",
       "    <tr>\n",
       "      <th>1</th>\n",
       "      <td>-0.139011</td>\n",
       "      <td>-0.278391</td>\n",
       "      <td>0</td>\n",
       "    </tr>\n",
       "    <tr>\n",
       "      <th>2</th>\n",
       "      <td>0.680692</td>\n",
       "      <td>-0.074141</td>\n",
       "      <td>0</td>\n",
       "    </tr>\n",
       "    <tr>\n",
       "      <th>3</th>\n",
       "      <td>-0.368678</td>\n",
       "      <td>-0.500838</td>\n",
       "      <td>0</td>\n",
       "    </tr>\n",
       "    <tr>\n",
       "      <th>4</th>\n",
       "      <td>0.775973</td>\n",
       "      <td>-1.125245</td>\n",
       "      <td>0</td>\n",
       "    </tr>\n",
       "  </tbody>\n",
       "</table>\n",
       "</div>"
      ],
      "text/plain": [
       "          X         Y  label\n",
       "0 -0.412221 -1.214139      0\n",
       "1 -0.139011 -0.278391      0\n",
       "2  0.680692 -0.074141      0\n",
       "3 -0.368678 -0.500838      0\n",
       "4  0.775973 -1.125245      0"
      ]
     },
     "execution_count": 5,
     "metadata": {},
     "output_type": "execute_result"
    }
   ],
   "source": [
    "train.head()"
   ]
  },
  {
   "cell_type": "code",
   "execution_count": 7,
   "metadata": {
    "collapsed": true
   },
   "outputs": [],
   "source": [
    "from sklearn.svm import SVC"
   ]
  },
  {
   "cell_type": "code",
   "execution_count": 9,
   "metadata": {
    "collapsed": false
   },
   "outputs": [
    {
     "data": {
      "text/plain": [
       "SVC(C=1.0, cache_size=200, class_weight=None, coef0=0.0, degree=3, gamma=0.0,\n",
       "  kernel='rbf', max_iter=-1, probability=False, random_state=None,\n",
       "  shrinking=True, tol=0.001, verbose=False)"
      ]
     },
     "execution_count": 9,
     "metadata": {},
     "output_type": "execute_result"
    }
   ],
   "source": [
    "svc = SVC(C=1.0)\n",
    "Xtrain = train[[\"X\", \"Y\"]]\n",
    "ytrain = train[\"label\"]\n",
    "svc.fit(Xtrain, ytrain)"
   ]
  },
  {
   "cell_type": "code",
   "execution_count": 12,
   "metadata": {
    "collapsed": false
   },
   "outputs": [],
   "source": [
    "Xtest = test[[\"X\", \"Y\"]]\n",
    "ytest = test[\"label\"]\n",
    "preds = svc.predict(Xtest)"
   ]
  },
  {
   "cell_type": "code",
   "execution_count": 26,
   "metadata": {
    "collapsed": false
   },
   "outputs": [],
   "source": [
    "def svc(xtrain, ytrain, xtest, ytest, C=1.0, kernel=\"rbf\", graph=False):\n",
    "    svc = SVC(C = C, kernel=kernel)\n",
    "    svc.fit(xtrain, ytrain)  #train SVC\n",
    "    preds = svc.predict(xtest)\n",
    "    if graph:\n",
    "        print \"Accuracy:\", np.mean(preds == ytest)\n",
    "        df = test.copy()\n",
    "        test[\"predict\"] = preds\n",
    "        pred0 = test[test[\"predict\"] == 0]\n",
    "        pred1 = test[test[\"predict\"] == 1]\n",
    "        plt.figure(figsize=(7, 7))\n",
    "        plt.scatter(pred0[\"X\"], pred0[\"Y\"], label=\"Positive\", marker=\"x\", color=\"r\")\n",
    "        plt.scatter(pred1[\"X\"], pred1[\"Y\"], label=\"Negative\", marker=\"o\", color=\"b\")\n",
    "        plt.legend()\n",
    "        plt.xlabel(\"X\")\n",
    "        plt.ylabel(\"Y\")"
   ]
  },
  {
   "cell_type": "code",
   "execution_count": 29,
   "metadata": {
    "collapsed": false
   },
   "outputs": [
    {
     "name": "stdout",
     "output_type": "stream",
     "text": [
      "Accuracy: 0.8025\n"
     ]
    },
    {
     "data": {
      "image/png": "[encoded data removed]",
      "text/plain": [
       "<matplotlib.figure.Figure at 0xc88ecf8>"
      ]
     },
     "metadata": {},
     "output_type": "display_data"
    }
   ],
   "source": [
    "svc(Xtrain, ytrain, Xtest, ytest, C=1000.0, kernel=\"rbf\", graph=True)"
   ]
  },
  {
   "cell_type": "code",
   "execution_count": 51,
   "metadata": {
    "collapsed": true
   },
   "outputs": [],
   "source": [
    "from sklearn.metrics import confusion_matrix, classification_report, roc_curve, auc"
   ]
  },
  {
   "cell_type": "code",
   "execution_count": 56,
   "metadata": {
    "collapsed": true
   },
   "outputs": [],
   "source": [
    "def confuse(xtrain, ytrain, xtest, ytest, C=1.0, kernel=\"rbf\"):\n",
    "    svc = SVC(C=C, kernel=kernel)\n",
    "    svc.fit(xtrain, ytrain)\n",
    "    preds = svc.predict(xtest)\n",
    "    matrix = confusion_matrix(ytest, preds)\n",
    "    truepos = float(matrix[0][0])  #obtain true positive and other types from matrix\n",
    "    trueneg = float(matrix[1][1])\n",
    "    falsepos = float(matrix[0][1])\n",
    "    falseneg = float(matrix[1][0])\n",
    "    print \"Sensitivity:\", truepos/(truepos + falseneg)\n",
    "    print \"Specificity:\", trueneg/(trueneg + falsepos), \"\\n\"\n",
    "    print matrix, \"\\n\"\n",
    "    print classification_report(ytest, preds)"
   ]
  },
  {
   "cell_type": "code",
   "execution_count": 41,
   "metadata": {
    "collapsed": false
   },
   "outputs": [
    {
     "name": "stdout",
     "output_type": "stream",
     "text": [
      "Sensitivity: 0.943181818182\n",
      "Specificity: 0.848214285714 \n",
      "\n",
      "[[166  34]\n",
      " [ 10 190]] \n",
      "\n",
      "             precision    recall  f1-score   support\n",
      "\n",
      "        0.0       0.94      0.83      0.88       200\n",
      "        1.0       0.85      0.95      0.90       200\n",
      "\n",
      "avg / total       0.90      0.89      0.89       400\n",
      "\n"
     ]
    }
   ],
   "source": [
    "confuse(Xtrain, ytrain, Xtest, ytest, C=1.1)"
   ]
  },
  {
   "cell_type": "code",
   "execution_count": 89,
   "metadata": {
    "collapsed": true
   },
   "outputs": [],
   "source": [
    "def roc_plot(xtrain, ytrain, xtest, ytest, C=1.0, kernel=\"rbf\"):\n",
    "    svc = SVC(C=C, kernel=kernel, probability=False)\n",
    "    svc.fit(xtrain, ytrain)\n",
    "    preds = svc.predict(xtest)\n",
    "    fpr, tpr, thresholds = roc_curve(ytest, preds)\n",
    "    area = auc(fpr, tpr) #calculate area under curve\n",
    "    plt.figure(figsize=(7, 7))\n",
    "    plt.plot(fpr, tpr, lw=2, label=\"ROC curve (area=%0.4f)\" % area, color=\"orange\")\n",
    "    plt.xlabel(\"False positive rate\")\n",
    "    plt.title(\"ROC curve for SVC with $\\gamma$ = %0.2f and %s kernel\" %(C, kernel))\n",
    "    plt.plot([0, 1], [0, 1], color=\"navy\", linestyle=\"--\")\n",
    "    plt.ylabel(\"True positive rate\")\n",
    "    plt.legend(loc=\"lower right\")"
   ]
  },
  {
   "cell_type": "code",
   "execution_count": 90,
   "metadata": {
    "collapsed": false
   },
   "outputs": [
    {
     "data": {
      "image/png": "[encoded data removed]",
      "text/plain": [
       "<matplotlib.figure.Figure at 0xc8aad30>"
      ]
     },
     "metadata": {},
     "output_type": "display_data"
    }
   ],
   "source": [
    "roc_plot(Xtrain, ytrain, Xtest, ytest, C=1.0, kernel=\"linear\")"
   ]
  },
  {
   "cell_type": "code",
   "execution_count": null,
   "metadata": {
    "collapsed": true
   },
   "outputs": [],
   "source": []
  }
 ],
 "metadata": {
  "kernelspec": {
   "display_name": "Python 2",
   "language": "python",
   "name": "python2"
  },
  "language_info": {
   "codemirror_mode": {
    "name": "ipython",
    "version": 2
   },
   "file_extension": ".py",
   "mimetype": "text/x-python",
   "name": "python",
   "nbconvert_exporter": "python",
   "pygments_lexer": "ipython2",
   "version": "2.7.12"
  }
 },
 "nbformat": 4,
 "nbformat_minor": 0
}
